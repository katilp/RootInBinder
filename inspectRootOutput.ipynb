{
 "cells": [
  {
   "cell_type": "code",
   "execution_count": 1,
   "metadata": {
    "scrolled": true
   },
   "outputs": [
    {
     "name": "stdout",
     "output_type": "stream",
     "text": [
      "Welcome to JupyROOT 6.16/00\n"
     ]
    }
   ],
   "source": [
    "import ROOT\n"
   ]
  },
  {
   "cell_type": "code",
   "execution_count": 2,
   "metadata": {},
   "outputs": [],
   "source": [
    "df = ROOT.RDataFrame(\"Events\", \"output.root\")\n"
   ]
  },
  {
   "cell_type": "code",
   "execution_count": 7,
   "metadata": {},
   "outputs": [
    {
     "name": "stdout",
     "output_type": "stream",
     "text": [
      "A data frame built on top of the Events dataset.\n"
     ]
    }
   ],
   "source": [
    "print(df)"
   ]
  },
  {
   "cell_type": "code",
   "execution_count": 20,
   "metadata": {},
   "outputs": [
    {
     "ename": "TypeError",
     "evalue": "none of the 3 overloaded methods succeeded. Full details:\n  ROOT::RDF::RResultPtr<ROOT::RDF::RDisplay> ROOT::RDF::RInterface<ROOT::Detail::RDF::RLoopManager,void>::Display(const vector<string>& columnList, const int& nRows = 5) =>\n    takes at least 1 arguments (0 given)\n  ROOT::RDF::RResultPtr<ROOT::RDF::RDisplay> ROOT::RDF::RInterface<ROOT::Detail::RDF::RLoopManager,void>::Display(basic_string_view<char,char_traits<char> > columnNameRegexp = \"\", const int& nRows = 5) =>\n    : there is no column available to match. (C++ exception of type runtime_error)\n  ROOT::RDF::RResultPtr<ROOT::RDF::RDisplay> ROOT::RDF::RInterface<ROOT::Detail::RDF::RLoopManager,void>::Display(initializer_list<string> columnList, const int& nRows = 5) =>\n    takes at least 1 arguments (0 given)",
     "output_type": "error",
     "traceback": [
      "\u001b[0;31m---------------------------------------------------------------------------\u001b[0m",
      "\u001b[0;31mTypeError\u001b[0m                                 Traceback (most recent call last)",
      "\u001b[0;32m<ipython-input-20-fe52845b3a95>\u001b[0m in \u001b[0;36m<module>\u001b[0;34m\u001b[0m\n\u001b[0;32m----> 1\u001b[0;31m \u001b[0mdf\u001b[0m\u001b[0;34m.\u001b[0m\u001b[0mDisplay\u001b[0m\u001b[0;34m(\u001b[0m\u001b[0;34m)\u001b[0m\u001b[0;34m\u001b[0m\u001b[0;34m\u001b[0m\u001b[0m\n\u001b[0m",
      "\u001b[0;31mTypeError\u001b[0m: none of the 3 overloaded methods succeeded. Full details:\n  ROOT::RDF::RResultPtr<ROOT::RDF::RDisplay> ROOT::RDF::RInterface<ROOT::Detail::RDF::RLoopManager,void>::Display(const vector<string>& columnList, const int& nRows = 5) =>\n    takes at least 1 arguments (0 given)\n  ROOT::RDF::RResultPtr<ROOT::RDF::RDisplay> ROOT::RDF::RInterface<ROOT::Detail::RDF::RLoopManager,void>::Display(basic_string_view<char,char_traits<char> > columnNameRegexp = \"\", const int& nRows = 5) =>\n    : there is no column available to match. (C++ exception of type runtime_error)\n  ROOT::RDF::RResultPtr<ROOT::RDF::RDisplay> ROOT::RDF::RInterface<ROOT::Detail::RDF::RLoopManager,void>::Display(initializer_list<string> columnList, const int& nRows = 5) =>\n    takes at least 1 arguments (0 given)"
     ]
    },
    {
     "name": "stderr",
     "output_type": "stream",
     "text": [
      "Error in <TChain::LoadTree>: Cannot find tree with name Events in file output.root\n"
     ]
    }
   ],
   "source": [
    "df.Display()"
   ]
  },
  {
   "cell_type": "code",
   "execution_count": 10,
   "metadata": {},
   "outputs": [
    {
     "name": "stdout",
     "output_type": "stream",
     "text": [
      "Help on RDataFrame object:\n",
      "\n",
      "class RDataFrame(ROOT.ROOT.RDF.RInterface<ROOT::Detail::RDF::RLoopManager,void>)\n",
      " |  PyROOT object proxy (internal)\n",
      " |  \n",
      " |  Method resolution order:\n",
      " |      RDataFrame\n",
      " |      ROOT.ROOT.RDF.RInterface<ROOT::Detail::RDF::RLoopManager,void>\n",
      " |      ROOT.ObjectProxy\n",
      " |      builtins.object\n",
      " |  \n",
      " |  Methods defined here:\n",
      " |  \n",
      " |  __assign__ = <ROOT.MethodProxy object>\n",
      " |  __init__ = <ROOT.MethodProxy object>\n",
      " |  __str__(...) from builtins.NoneType\n",
      " |      PyROOT custom instance method (internal)\n",
      " |  \n",
      " |  ----------------------------------------------------------------------\n",
      " |  Data and other attributes defined here:\n",
      " |  \n",
      " |  __cppname__ = 'ROOT::RDataFrame'\n",
      " |  \n",
      " |  __scope__ = 'ROOT'\n",
      " |  \n",
      " |  ----------------------------------------------------------------------\n",
      " |  Methods inherited from ROOT.ROOT.RDF.RInterface<ROOT::Detail::RDF::RLoopManager,void>:\n",
      " |  \n",
      " |  Alias = <ROOT.MethodProxy object>\n",
      " |  Cache = <ROOT.MethodProxy object>\n",
      " |  Count = <ROOT.MethodProxy object>\n",
      " |  CreateAction = <ROOT.TemplateProxy object>\n",
      " |  Define = <ROOT.MethodProxy object>\n",
      " |  Display = <ROOT.MethodProxy object>\n",
      " |  Filter = <ROOT.MethodProxy object>\n",
      " |  GetColumnNames = <ROOT.MethodProxy object>\n",
      " |  GetColumnType = <ROOT.MethodProxy object>\n",
      " |  GetDefinedColumnNames = <ROOT.MethodProxy object>\n",
      " |  GetFilterNames = <ROOT.MethodProxy object>\n",
      " |  Graph = <ROOT.TemplateProxy object>\n",
      " |  Graph<ROOT::Detail::RDF::RInferredType, ROOT::Detail::RDF::RInferredType> = <ROOT.MethodProxy object>\n",
      " |  Histo1D = <ROOT.TemplateProxy object>\n",
      " |  Histo1D<ROOT::Detail::RDF::RInferredType, ROOT::Detail::RDF::RInferredType> = <ROOT.MethodProxy object>\n",
      " |  Histo1D<ROOT::Detail::RDF::RInferredType> = <ROOT.MethodProxy object>\n",
      " |  Histo2D = <ROOT.TemplateProxy object>\n",
      " |  Histo2D<ROOT::Detail::RDF::RInferredType, ROOT::Detail::RDF::RInferredType, ROOT::Detail::RDF::RInferredType> = <ROOT.MethodProxy object>\n",
      " |  Histo2D<ROOT::Detail::RDF::RInferredType, ROOT::Detail::RDF::RInferredType> = <ROOT.MethodProxy object>\n",
      " |  Histo3D = <ROOT.TemplateProxy object>\n",
      " |  Histo3D<ROOT::Detail::RDF::RInferredType, ROOT::Detail::RDF::RInferredType, ROOT::Detail::RDF::RInferredType, ROOT::Detail::RDF::RInferredType> = <ROOT.MethodProxy object>\n",
      " |  Histo3D<ROOT::Detail::RDF::RInferredType, ROOT::Detail::RDF::RInferredType, ROOT::Detail::RDF::RInferredType> = <ROOT.MethodProxy object>\n",
      " |  Max = <ROOT.TemplateProxy object>\n",
      " |  Max<ROOT::Detail::RDF::RInferredType> = <ROOT.MethodProxy object>\n",
      " |  Mean = <ROOT.TemplateProxy object>\n",
      " |  Mean<ROOT::Detail::RDF::RInferredType> = <ROOT.MethodProxy object>\n",
      " |  Min = <ROOT.TemplateProxy object>\n",
      " |  Min<ROOT::Detail::RDF::RInferredType> = <ROOT.MethodProxy object>\n",
      " |  Profile1D = <ROOT.TemplateProxy object>\n",
      " |  Profile1D<ROOT::Detail::RDF::RInferredType, ROOT::Detail::RDF::RInferredType, ROOT::Detail::RDF::RInferredType> = <ROOT.MethodProxy object>\n",
      " |  Profile1D<ROOT::Detail::RDF::RInferredType, ROOT::Detail::RDF::RInferredType> = <ROOT.MethodProxy object>\n",
      " |  Profile2D = <ROOT.TemplateProxy object>\n",
      " |  Profile2D<ROOT::Detail::RDF::RInferredType, ROOT::Detail::RDF::RInferredType, ROOT::Detail::RDF::RInferredType, ROOT::Detail::RDF::RInferredType> = <ROOT.MethodProxy object>\n",
      " |  Profile2D<ROOT::Detail::RDF::RInferredType, ROOT::Detail::RDF::RInferredType, ROOT::Detail::RDF::RInferredType> = <ROOT.MethodProxy object>\n",
      " |  Range = <ROOT.MethodProxy object>\n",
      " |  Report = <ROOT.MethodProxy object>\n",
      " |  Snapshot = <ROOT.MethodProxy object>\n",
      " |  StdDev = <ROOT.TemplateProxy object>\n",
      " |  StdDev<ROOT::Detail::RDF::RInferredType> = <ROOT.MethodProxy object>\n",
      " |  Sum = <ROOT.TemplateProxy object>\n",
      " |  Sum<ROOT::Detail::RDF::RInferredType> = <ROOT.MethodProxy object>\n",
      " |  operator RInterface = <ROOT.MethodProxy object>\n",
      " |  ----------------------------------------------------------------------\n",
      " |  Data descriptors inherited from ROOT.ROOT.RDF.RInterface<ROOT::Detail::RDF::RLoopManager,void>:\n",
      " |  \n",
      " |  __dict__\n",
      " |      dictionary for instance variables (if defined)\n",
      " |  \n",
      " |  __weakref__\n",
      " |      list of weak references to the object (if defined)\n",
      " |  \n",
      " |  ----------------------------------------------------------------------\n",
      " |  Methods inherited from ROOT.ObjectProxy:\n",
      " |  \n",
      " |  __add__(self, value, /)\n",
      " |      Return self+value.\n",
      " |  \n",
      " |  __bool__(...)\n",
      " |  \n",
      " |  __destruct__(...)\n",
      " |  \n",
      " |  __dispatch__(...)\n",
      " |      dispatch to selected overload\n",
      " |  \n",
      " |  __eq__(self, value, /)\n",
      " |      Return self==value.\n",
      " |  \n",
      " |  __ge__(self, value, /)\n",
      " |      Return self>=value.\n",
      " |  \n",
      " |  __gt__(self, value, /)\n",
      " |      Return self>value.\n",
      " |  \n",
      " |  __hash__(self, /)\n",
      " |      Return hash(self).\n",
      " |  \n",
      " |  __le__(self, value, /)\n",
      " |      Return self<=value.\n",
      " |  \n",
      " |  __lt__(self, value, /)\n",
      " |      Return self<value.\n",
      " |  \n",
      " |  __mul__(self, value, /)\n",
      " |      Return self*value.\n",
      " |  \n",
      " |  __ne__(self, value, /)\n",
      " |      Return self!=value.\n",
      " |  \n",
      " |  __nonzero__(...)\n",
      " |  \n",
      " |  __radd__(self, value, /)\n",
      " |      Return value+self.\n",
      " |  \n",
      " |  __reduce__(...)\n",
      " |      Helper for pickle.\n",
      " |  \n",
      " |  __repr__(self, /)\n",
      " |      Return repr(self).\n",
      " |  \n",
      " |  __rmul__(self, value, /)\n",
      " |      Return value*self.\n",
      " |  \n",
      " |  __rsub__(self, value, /)\n",
      " |      Return value-self.\n",
      " |  \n",
      " |  __rtruediv__(self, value, /)\n",
      " |      Return value/self.\n",
      " |  \n",
      " |  __sub__(self, value, /)\n",
      " |      Return self-value.\n",
      " |  \n",
      " |  __truediv__(self, value, /)\n",
      " |      Return self/value.\n",
      " |  \n",
      " |  ----------------------------------------------------------------------\n",
      " |  Static methods inherited from ROOT.ObjectProxy:\n",
      " |  \n",
      " |  __new__(*args, **kwargs) from ROOT.PyRootType\n",
      " |      Create and return a new object.  See help(type) for accurate signature.\n",
      "\n"
     ]
    }
   ],
   "source": [
    "help(df)"
   ]
  },
  {
   "cell_type": "code",
   "execution_count": 28,
   "metadata": {},
   "outputs": [
    {
     "ename": "TypeError",
     "evalue": "none of the 3 overloaded methods succeeded. Full details:\n  ROOT::RDF::RResultPtr<ROOT::RDF::RDisplay> ROOT::RDF::RInterface<ROOT::Detail::RDF::RLoopManager,void>::Display(const vector<string>& columnList, const int& nRows = 5) =>\n    could not convert argument 1\n  ROOT::RDF::RResultPtr<ROOT::RDF::RDisplay> ROOT::RDF::RInterface<ROOT::Detail::RDF::RLoopManager,void>::Display(basic_string_view<char,char_traits<char> > columnNameRegexp = \"\", const int& nRows = 5) =>\n    : there is no column available to match. (C++ exception of type runtime_error)\n  ROOT::RDF::RResultPtr<ROOT::RDF::RDisplay> ROOT::RDF::RInterface<ROOT::Detail::RDF::RLoopManager,void>::Display(initializer_list<string> columnList, const int& nRows = 5) =>\n    could not convert argument 1",
     "output_type": "error",
     "traceback": [
      "\u001b[0;31m---------------------------------------------------------------------------\u001b[0m",
      "\u001b[0;31mTypeError\u001b[0m                                 Traceback (most recent call last)",
      "\u001b[0;32m<ipython-input-28-126878fe0ac3>\u001b[0m in \u001b[0;36m<module>\u001b[0;34m\u001b[0m\n\u001b[0;32m----> 1\u001b[0;31m \u001b[0md\u001b[0m \u001b[0;34m=\u001b[0m \u001b[0mdf\u001b[0m\u001b[0;34m.\u001b[0m\u001b[0mDisplay\u001b[0m\u001b[0;34m(\u001b[0m\u001b[0;34m\"\"\u001b[0m\u001b[0;34m)\u001b[0m\u001b[0;34m\u001b[0m\u001b[0;34m\u001b[0m\u001b[0m\n\u001b[0m\u001b[1;32m      2\u001b[0m \u001b[0mprint\u001b[0m\u001b[0;34m(\u001b[0m\u001b[0md\u001b[0m\u001b[0;34m)\u001b[0m\u001b[0;34m\u001b[0m\u001b[0;34m\u001b[0m\u001b[0m\n",
      "\u001b[0;31mTypeError\u001b[0m: none of the 3 overloaded methods succeeded. Full details:\n  ROOT::RDF::RResultPtr<ROOT::RDF::RDisplay> ROOT::RDF::RInterface<ROOT::Detail::RDF::RLoopManager,void>::Display(const vector<string>& columnList, const int& nRows = 5) =>\n    could not convert argument 1\n  ROOT::RDF::RResultPtr<ROOT::RDF::RDisplay> ROOT::RDF::RInterface<ROOT::Detail::RDF::RLoopManager,void>::Display(basic_string_view<char,char_traits<char> > columnNameRegexp = \"\", const int& nRows = 5) =>\n    : there is no column available to match. (C++ exception of type runtime_error)\n  ROOT::RDF::RResultPtr<ROOT::RDF::RDisplay> ROOT::RDF::RInterface<ROOT::Detail::RDF::RLoopManager,void>::Display(initializer_list<string> columnList, const int& nRows = 5) =>\n    could not convert argument 1"
     ]
    },
    {
     "name": "stderr",
     "output_type": "stream",
     "text": [
      "Error in <TChain::LoadTree>: Cannot find tree with name Events in file output.root\n"
     ]
    }
   ],
   "source": [
    "d = df.Display(\"\")\n",
    "print(d)\n"
   ]
  },
  {
   "cell_type": "code",
   "execution_count": 14,
   "metadata": {},
   "outputs": [
    {
     "data": {
      "text/plain": [
       "<ROOT.ROOT::RDF::RResultPtr<ULong64_t> object at 0x55d17fa13560>"
      ]
     },
     "execution_count": 14,
     "metadata": {},
     "output_type": "execute_result"
    }
   ],
   "source": [
    "df.Count()"
   ]
  },
  {
   "cell_type": "code",
   "execution_count": 16,
   "metadata": {},
   "outputs": [
    {
     "data": {
      "text/plain": [
       "['Alias',\n",
       " 'Cache',\n",
       " 'Count',\n",
       " 'CreateAction',\n",
       " 'Define',\n",
       " 'Display',\n",
       " 'Filter',\n",
       " 'GetColumnNames',\n",
       " 'GetColumnType',\n",
       " 'GetDefinedColumnNames',\n",
       " 'GetFilterNames',\n",
       " 'Graph',\n",
       " 'Graph<ROOT::Detail::RDF::RInferredType, ROOT::Detail::RDF::RInferredType>',\n",
       " 'Histo1D',\n",
       " 'Histo1D<ROOT::Detail::RDF::RInferredType, ROOT::Detail::RDF::RInferredType>',\n",
       " 'Histo1D<ROOT::Detail::RDF::RInferredType>',\n",
       " 'Histo2D',\n",
       " 'Histo2D<ROOT::Detail::RDF::RInferredType, ROOT::Detail::RDF::RInferredType, ROOT::Detail::RDF::RInferredType>',\n",
       " 'Histo2D<ROOT::Detail::RDF::RInferredType, ROOT::Detail::RDF::RInferredType>',\n",
       " 'Histo3D',\n",
       " 'Histo3D<ROOT::Detail::RDF::RInferredType, ROOT::Detail::RDF::RInferredType, ROOT::Detail::RDF::RInferredType, ROOT::Detail::RDF::RInferredType>',\n",
       " 'Histo3D<ROOT::Detail::RDF::RInferredType, ROOT::Detail::RDF::RInferredType, ROOT::Detail::RDF::RInferredType>',\n",
       " 'Max',\n",
       " 'Max<ROOT::Detail::RDF::RInferredType>',\n",
       " 'Mean',\n",
       " 'Mean<ROOT::Detail::RDF::RInferredType>',\n",
       " 'Min',\n",
       " 'Min<ROOT::Detail::RDF::RInferredType>',\n",
       " 'Profile1D',\n",
       " 'Profile1D<ROOT::Detail::RDF::RInferredType, ROOT::Detail::RDF::RInferredType, ROOT::Detail::RDF::RInferredType>',\n",
       " 'Profile1D<ROOT::Detail::RDF::RInferredType, ROOT::Detail::RDF::RInferredType>',\n",
       " 'Profile2D',\n",
       " 'Profile2D<ROOT::Detail::RDF::RInferredType, ROOT::Detail::RDF::RInferredType, ROOT::Detail::RDF::RInferredType, ROOT::Detail::RDF::RInferredType>',\n",
       " 'Profile2D<ROOT::Detail::RDF::RInferredType, ROOT::Detail::RDF::RInferredType, ROOT::Detail::RDF::RInferredType>',\n",
       " 'Range',\n",
       " 'Report',\n",
       " 'Snapshot',\n",
       " 'StdDev',\n",
       " 'StdDev<ROOT::Detail::RDF::RInferredType>',\n",
       " 'Sum',\n",
       " 'Sum<ROOT::Detail::RDF::RInferredType>',\n",
       " '_ROOT::RDF::RInterface<ROOT::Detail::RDF::RLoopManager,void>__AddDefaultColumns',\n",
       " '_ROOT::RDF::RInterface<ROOT::Detail::RDF::RLoopManager,void>__CheckIMTDisabled',\n",
       " '_ROOT::RDF::RInterface<ROOT::Detail::RDF::RLoopManager,void>__CreateAction<ROOT::Internal::RDF::ActionTags::Graph, ROOT::Detail::RDF::RInferredType, ROOT::Detail::RDF::RInferredType, TGraph, 0>',\n",
       " '_ROOT::RDF::RInterface<ROOT::Detail::RDF::RLoopManager,void>__CreateAction<ROOT::Internal::RDF::ActionTags::Histo1D, ROOT::Detail::RDF::RInferredType, ROOT::Detail::RDF::RInferredType, TH1D, 0>',\n",
       " '_ROOT::RDF::RInterface<ROOT::Detail::RDF::RLoopManager,void>__CreateAction<ROOT::Internal::RDF::ActionTags::Histo1D, ROOT::Detail::RDF::RInferredType, TH1D, 0>',\n",
       " '_ROOT::RDF::RInterface<ROOT::Detail::RDF::RLoopManager,void>__CreateAction<ROOT::Internal::RDF::ActionTags::Histo2D, ROOT::Detail::RDF::RInferredType, ROOT::Detail::RDF::RInferredType, ROOT::Detail::RDF::RInferredType, TH2D, 0>',\n",
       " '_ROOT::RDF::RInterface<ROOT::Detail::RDF::RLoopManager,void>__CreateAction<ROOT::Internal::RDF::ActionTags::Histo2D, ROOT::Detail::RDF::RInferredType, ROOT::Detail::RDF::RInferredType, TH2D, 0>',\n",
       " '_ROOT::RDF::RInterface<ROOT::Detail::RDF::RLoopManager,void>__CreateAction<ROOT::Internal::RDF::ActionTags::Histo3D, ROOT::Detail::RDF::RInferredType, ROOT::Detail::RDF::RInferredType, ROOT::Detail::RDF::RInferredType, ROOT::Detail::RDF::RInferredType, TH3D, 0>',\n",
       " '_ROOT::RDF::RInterface<ROOT::Detail::RDF::RLoopManager,void>__CreateAction<ROOT::Internal::RDF::ActionTags::Histo3D, ROOT::Detail::RDF::RInferredType, ROOT::Detail::RDF::RInferredType, ROOT::Detail::RDF::RInferredType, TH3D, 0>',\n",
       " '_ROOT::RDF::RInterface<ROOT::Detail::RDF::RLoopManager,void>__CreateAction<ROOT::Internal::RDF::ActionTags::Max, ROOT::Detail::RDF::RInferredType, double, 0>',\n",
       " '_ROOT::RDF::RInterface<ROOT::Detail::RDF::RLoopManager,void>__CreateAction<ROOT::Internal::RDF::ActionTags::Mean, ROOT::Detail::RDF::RInferredType, double, 0>',\n",
       " '_ROOT::RDF::RInterface<ROOT::Detail::RDF::RLoopManager,void>__CreateAction<ROOT::Internal::RDF::ActionTags::Min, ROOT::Detail::RDF::RInferredType, double, 0>',\n",
       " '_ROOT::RDF::RInterface<ROOT::Detail::RDF::RLoopManager,void>__CreateAction<ROOT::Internal::RDF::ActionTags::Profile1D, ROOT::Detail::RDF::RInferredType, ROOT::Detail::RDF::RInferredType, ROOT::Detail::RDF::RInferredType, TProfile, 0>',\n",
       " '_ROOT::RDF::RInterface<ROOT::Detail::RDF::RLoopManager,void>__CreateAction<ROOT::Internal::RDF::ActionTags::Profile1D, ROOT::Detail::RDF::RInferredType, ROOT::Detail::RDF::RInferredType, TProfile, 0>',\n",
       " '_ROOT::RDF::RInterface<ROOT::Detail::RDF::RLoopManager,void>__CreateAction<ROOT::Internal::RDF::ActionTags::Profile2D, ROOT::Detail::RDF::RInferredType, ROOT::Detail::RDF::RInferredType, ROOT::Detail::RDF::RInferredType, ROOT::Detail::RDF::RInferredType, TProfile2D, 0>',\n",
       " '_ROOT::RDF::RInterface<ROOT::Detail::RDF::RLoopManager,void>__CreateAction<ROOT::Internal::RDF::ActionTags::Profile2D, ROOT::Detail::RDF::RInferredType, ROOT::Detail::RDF::RInferredType, ROOT::Detail::RDF::RInferredType, TProfile2D, 0>',\n",
       " '_ROOT::RDF::RInterface<ROOT::Detail::RDF::RLoopManager,void>__CreateAction<ROOT::Internal::RDF::ActionTags::StdDev, ROOT::Detail::RDF::RInferredType, double, 0>',\n",
       " '_ROOT::RDF::RInterface<ROOT::Detail::RDF::RLoopManager,void>__CreateAction<ROOT::Internal::RDF::ActionTags::Sum, ROOT::Detail::RDF::RInferredType, double, 0>',\n",
       " '_ROOT::RDF::RInterface<ROOT::Detail::RDF::RLoopManager,void>__GetColumnTypeNamesList',\n",
       " '_ROOT::RDF::RInterface<ROOT::Detail::RDF::RLoopManager,void>__GetLoopManager',\n",
       " '_ROOT::RDF::RInterface<ROOT::Detail::RDF::RLoopManager,void>__GetProxiedPtr',\n",
       " '_ROOT::RDF::RInterface<ROOT::Detail::RDF::RLoopManager,void>__GetValidatedColumnNames',\n",
       " '__add__',\n",
       " '__assign__',\n",
       " '__bool__',\n",
       " '__class__',\n",
       " '__cppname__',\n",
       " '__delattr__',\n",
       " '__destruct__',\n",
       " '__dict__',\n",
       " '__dir__',\n",
       " '__dispatch__',\n",
       " '__doc__',\n",
       " '__eq__',\n",
       " '__format__',\n",
       " '__ge__',\n",
       " '__getattribute__',\n",
       " '__gt__',\n",
       " '__hash__',\n",
       " '__init__',\n",
       " '__init_subclass__',\n",
       " '__le__',\n",
       " '__lt__',\n",
       " '__module__',\n",
       " '__mul__',\n",
       " '__ne__',\n",
       " '__new__',\n",
       " '__nonzero__',\n",
       " '__radd__',\n",
       " '__reduce__',\n",
       " '__reduce_ex__',\n",
       " '__repr__',\n",
       " '__rmul__',\n",
       " '__rsub__',\n",
       " '__rtruediv__',\n",
       " '__scope__',\n",
       " '__setattr__',\n",
       " '__sizeof__',\n",
       " '__str__',\n",
       " '__sub__',\n",
       " '__subclasshook__',\n",
       " '__truediv__',\n",
       " '__weakref__',\n",
       " '_get_smart_ptr',\n",
       " 'operator RInterface']"
      ]
     },
     "execution_count": 16,
     "metadata": {},
     "output_type": "execute_result"
    }
   ],
   "source": [
    "dir(df)"
   ]
  },
  {
   "cell_type": "code",
   "execution_count": null,
   "metadata": {},
   "outputs": [],
   "source": []
  }
 ],
 "metadata": {
  "kernelspec": {
   "display_name": "Python 3",
   "language": "python",
   "name": "python3"
  },
  "language_info": {
   "codemirror_mode": {
    "name": "ipython",
    "version": 3
   },
   "file_extension": ".py",
   "mimetype": "text/x-python",
   "name": "python",
   "nbconvert_exporter": "python",
   "pygments_lexer": "ipython3",
   "version": "3.7.6"
  }
 },
 "nbformat": 4,
 "nbformat_minor": 2
}
