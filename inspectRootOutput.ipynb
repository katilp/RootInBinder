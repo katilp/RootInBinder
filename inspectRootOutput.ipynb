{
 "cells": [
  {
   "cell_type": "code",
   "execution_count": 1,
   "metadata": {
    "scrolled": true
   },
   "outputs": [
    {
     "name": "stdout",
     "output_type": "stream",
     "text": [
      "Welcome to JupyROOT 6.18/00\n"
     ]
    }
   ],
   "source": [
    "import ROOT\n"
   ]
  },
  {
   "cell_type": "code",
   "execution_count": 7,
   "metadata": {},
   "outputs": [],
   "source": [
    "df = ROOT.RDataFrame('Events', 'root://eospublic.cern.ch//eos/opendata/cms/derived-data/AOD2NanoAODOutreachTool/Run2012B_TauPlusX.root')\n"
   ]
  },
  {
   "cell_type": "code",
   "execution_count": 8,
   "metadata": {},
   "outputs": [],
   "source": [
    "display = df.Display()"
   ]
  },
  {
   "cell_type": "code",
   "execution_count": 9,
   "metadata": {},
   "outputs": [
    {
     "name": "stdout",
     "output_type": "stream",
     "text": [
      "run    | luminosityBlock | event    | HLT_IsoMu24_eta2p1 | HLT_IsoMu24 | \n",
      "194075 | 48              | 14880766 | false              | false       | \n",
      "194075 | 48              | 14844046 | true               | true        | \n",
      "194075 | 48              | 14872718 | true               | true        | \n",
      "194075 | 48              | 14772869 | false              | false       | \n",
      "194075 | 48              | 14797077 | false              | false       | \n"
     ]
    }
   ],
   "source": [
    " display.Print() "
   ]
  },
  {
   "cell_type": "code",
   "execution_count": null,
   "metadata": {},
   "outputs": [],
   "source": [
    "help(df)"
   ]
  },
  {
   "cell_type": "code",
   "execution_count": 2,
   "metadata": {},
   "outputs": [
    {
     "name": "stdout",
     "output_type": "stream",
     "text": [
      "run    | luminosityBlock | event      | HLT_IsoMu24_eta2p1 | HLT_IsoMu24 | \n",
      "195397 | 817             | 1044388523 | false              | false       | \n",
      "195397 | 817             | 1044431067 | false              | false       | \n",
      "195397 | 817             | 1044455851 | false              | false       | \n",
      "195397 | 817             | 1044443963 | false              | false       | \n",
      "195397 | 817             | 1044504251 | false              | false       | \n"
     ]
    }
   ],
   "source": [
    "df2 =  ROOT.RDataFrame('aod2nanoaod/Events', 'output.root')\n",
    "display2 = df2.Display()\n",
    "display2.Print()"
   ]
  },
  {
   "cell_type": "code",
   "execution_count": 5,
   "metadata": {},
   "outputs": [
    {
     "name": "stdout",
     "output_type": "stream",
     "text": [
      "{ \"run\", \"luminosityBlock\", \"event\", \"HLT_IsoMu24_eta2p1\", \"HLT_IsoMu24\", \"HLT_IsoMu17_eta2p1_LooseIsoPFTau20\", \"PV_npvs\", \"PV_x\", \"PV_y\", \"PV_z\", \"nMuon\", \"Muon_pt\", \"Muon_eta\", \"Muon_phi\", \"Muon_mass\", \"Muon_charge\", \"Muon_pfRelIso03_all\", \"Muon_pfRelIso04_all\", \"Muon_tightId\", \"Muon_softId\", \"Muon_dxy\", \"Muon_dxyErr\", \"Muon_dz\", \"Muon_dzErr\", \"Muon_jetIdx\", \"Muon_genPartIdx\", \"nElectron\", \"Electron_pt\", \"Electron_eta\", \"Electron_phi\", \"Electron_mass\", \"Electron_charge\", \"Electron_pfRelIso03_all\", \"Electron_dxy\", \"Electron_dxyErr\", \"Electron_dz\", \"Electron_dzErr\", \"Electron_cutBasedId\", \"Electron_pfId\", \"Electron_jetIdx\", \"Electron_genPartIdx\", \"nTau\", \"Tau_pt\", \"Tau_eta\", \"Tau_phi\", \"Tau_mass\", \"Tau_charge\", \"Tau_decayMode\", \"Tau_relIso_all\", \"Tau_jetIdx\", \"Tau_genPartIdx\", \"Tau_idDecayMode\", \"Tau_idIsoRaw\", \"Tau_idIsoVLoose\", \"Tau_idIsoLoose\", \"Tau_idIsoMedium\", \"Tau_idIsoTight\", \"Tau_idAntiEleLoose\", \"Tau_idAntiEleMedium\", \"Tau_idAntiEleTight\", \"Tau_idAntiMuLoose\", \"Tau_idAntiMuMedium\", \"Tau_idAntiMuTight\", \"MET_pt\", \"MET_phi\", \"MET_sumet\", \"MET_significance\", \"MET_CovXX\", \"MET_CovXY\", \"MET_CovYY\", \"nJet\", \"Jet_pt\", \"Jet_eta\", \"Jet_phi\", \"Jet_mass\", \"Jet_puId\", \"Jet_btag\" }\n"
     ]
    }
   ],
   "source": [
    "print(df2.GetColumnNames())"
   ]
  },
  {
   "cell_type": "code",
   "execution_count": 6,
   "metadata": {},
   "outputs": [
    {
     "name": "stdout",
     "output_type": "stream",
     "text": [
      "nMuon | Muon_pt  | Muon_eta   | Muon_phi    | Muon_mass | Muon_charge | Muon_pfRelIso03_all | \n",
      "2     | 10.7637f | 1.06683f   | -0.0342727f | 0.105658f | -1          | 0.893882f           | \n",
      "      | 15.7365f | -0.563787f | 2.54262f    | 0.105658f | -1          | -999.000f           | \n",
      "2     | 10.5385f | -0.427780f | -0.274792f  | 0.105658f | 1           | 4.00117f            | \n",
      "      | 16.3271f | 0.349225f  | 2.53978f    | 0.105658f | -1          | 1.05519f            | \n",
      "1     | 3.27533f | 2.21086f   | -1.22341f   | 0.105658f | 1           | 0.152899f           | \n",
      "4     | 11.4292f | -1.58824f  | -2.07730f   | 0.105658f | 1           | 1.83634f            | \n",
      "      | ...      | ...        | ...         | ...       | ...         | ...                 | \n",
      "      | 3.50223f | -1.65596f  | -1.84997f   | 0.105658f | 1           | -999.000f           | \n",
      "4     | 3.28344f | -2.17248f  | -2.37001f   | 0.105658f | -1          | 0.295613f           | \n",
      "      | ...      | ...        | ...         | ...       | ...         | ...                 | \n",
      "      | 23.7218f | -1.16290f  | -0.773005f  | 0.105658f | 1           | -999.000f           | \n",
      "3     | 3.56653f | -1.37193f  | -2.90904f   | 0.105658f | -1          | 8.22751f            | \n",
      "      | ...      | ...        | ...         | ...       | ...         | ...                 | \n",
      "      | 4.37186f | -1.04000f  | -3.05939f   | 0.105658f | -1          | -999.000f           | \n",
      "2     | 57.6067f | -0.532089f | -0.0717980f | 0.105658f | -1          | 0.00000f            | \n",
      "      | 53.0451f | -1.00417f  | 3.08952f    | 0.105658f | 1           | 0.00000f            | \n",
      "2     | 11.3197f | -0.771659f | -2.24527f   | 0.105658f | 1           | 2.53460f            | \n",
      "      | 23.9064f | -0.700997f | -2.18096f   | 0.105658f | -1          | 1.27776f            | \n",
      "2     | 10.1936f | 0.441807f  | 0.677852f   | 0.105658f | -1          | 0.00000f            | \n",
      "      | 14.2041f | 0.702117f  | -2.03440f   | 0.105658f | 1           | 0.00000f            | \n",
      "2     | 11.4707f | 2.34174f   | 3.13097f    | 0.105658f | -1          | 0.0441178f          | \n",
      "      | 3.46901f | 2.35237f   | 3.02117f    | 0.105658f | 1           | 0.182901f           | \n"
     ]
    }
   ],
   "source": [
    "d = df2.Display('.*Muon.*', 10)\n",
    "d.Print()"
   ]
  },
  {
   "cell_type": "code",
   "execution_count": null,
   "metadata": {},
   "outputs": [],
   "source": []
  }
 ],
 "metadata": {
  "kernelspec": {
   "display_name": "Python 3",
   "language": "python",
   "name": "python3"
  },
  "language_info": {
   "codemirror_mode": {
    "name": "ipython",
    "version": 3
   },
   "file_extension": ".py",
   "mimetype": "text/x-python",
   "name": "python",
   "nbconvert_exporter": "python",
   "pygments_lexer": "ipython3",
   "version": "3.7.6"
  }
 },
 "nbformat": 4,
 "nbformat_minor": 2
}
